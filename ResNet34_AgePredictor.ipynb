{
  "cells": [
    {
      "cell_type": "code",
      "execution_count": 1,
      "id": "alien-stability",
      "metadata": {
        "id": "alien-stability"
      },
      "outputs": [],
      "source": [
        "import os\n",
        "import numpy as np\n",
        "from PIL import Image\n",
        "import csv\n",
        "import pandas as pd\n",
        "\n",
        "import torch\n",
        "import torchvision   \n",
        "import torch.nn as nn\n",
        "import torch.nn.functional as F\n",
        "from torch.utils.data import Dataset, DataLoader\n",
        "import matplotlib.pyplot as plt\n",
        "# from facenet_pytorch import MTCNN, InceptionResnetV1"
      ]
    },
    {
      "cell_type": "code",
      "execution_count": 2,
      "id": "amateur-forward",
      "metadata": {
        "colab": {
          "base_uri": "https://localhost:8080/"
        },
        "id": "amateur-forward",
        "outputId": "53417816-a1cb-439d-f216-dd2958a4a041"
      },
      "outputs": [
        {
          "output_type": "stream",
          "name": "stdout",
          "text": [
            "Drive already mounted at /content/drive; to attempt to forcibly remount, call drive.mount(\"/content/drive\", force_remount=True).\n"
          ]
        }
      ],
      "source": [
        "from google.colab import drive\n",
        "drive.mount('/content/drive')"
      ]
    },
    {
      "cell_type": "code",
      "execution_count": 3,
      "id": "rough-mediterranean",
      "metadata": {
        "colab": {
          "base_uri": "https://localhost:8080/"
        },
        "id": "rough-mediterranean",
        "outputId": "e66f97c3-0bb1-47d4-da99-7d3cb3130483"
      },
      "outputs": [
        {
          "output_type": "stream",
          "name": "stdout",
          "text": [
            "replace age_prediction/test/001/7148.jpg? [y]es, [n]o, [A]ll, [N]one, [r]ename: "
          ]
        }
      ],
      "source": [
        "!cp drive/'My Drive'/facerecog/age_prediction.zip .\n",
        "!unzip -q age_prediction.zip"
      ]
    },
    {
      "cell_type": "code",
      "execution_count": 4,
      "id": "persistent-laugh",
      "metadata": {
        "id": "persistent-laugh"
      },
      "outputs": [],
      "source": [
        "# !kaggle competitions download -c idl-fall21-hw2p2s1-face-classification"
      ]
    },
    {
      "cell_type": "code",
      "execution_count": 5,
      "id": "gentle-international",
      "metadata": {
        "scrolled": true,
        "tags": [],
        "id": "gentle-international"
      },
      "outputs": [],
      "source": [
        "# !unzip idl-fall21-hw2p2s1-face-classification"
      ]
    },
    {
      "cell_type": "code",
      "execution_count": 6,
      "id": "complete-narrow",
      "metadata": {
        "id": "complete-narrow"
      },
      "outputs": [],
      "source": [
        "class ImageDataset(Dataset):\n",
        "    def __init__(self, file_list, target_list):\n",
        "        self.file_list = file_list\n",
        "        self.target_list = target_list\n",
        "        self.n_class = len(list(set(target_list)))\n",
        "\n",
        "    def __len__(self):\n",
        "        return len(self.file_list)\n",
        "\n",
        "    def __getitem__(self, index):\n",
        "        img = Image.open(self.file_list[index])\n",
        "        img = torchvision.transforms.ToTensor()(img)\n",
        "        label = self.target_list[index]\n",
        "        return img, label"
      ]
    },
    {
      "cell_type": "code",
      "execution_count": 7,
      "id": "human-soldier",
      "metadata": {
        "id": "human-soldier"
      },
      "outputs": [],
      "source": [
        "def parse_data(datadir):\n",
        "    img_list = []\n",
        "    ID_list = []\n",
        "    for root, directories, filenames in os.walk(datadir):  #root: median/1\n",
        "        for filename in filenames:\n",
        "            if filename.endswith('.jpg'):\n",
        "                filei = os.path.join(root, filename)\n",
        "                img_list.append(filei)\n",
        "                ID_list.append(root.split('/')[-1])\n",
        "\n",
        "    # construct a dictionary, where key and value correspond to ID and target\n",
        "    uniqueID_list = list(set(ID_list))\n",
        "    class_n = len(uniqueID_list)\n",
        "    target_dict = dict(zip(uniqueID_list, range(class_n)))\n",
        "    label_list = [target_dict[ID_key] for ID_key in ID_list]\n",
        "\n",
        "    print('{}\\t\\t{}\\n{}\\t\\t{}'.format('#Images', '#Labels', len(img_list), len(set(label_list))))\n",
        "    return img_list, label_list, class_n"
      ]
    },
    {
      "cell_type": "code",
      "execution_count": 8,
      "id": "narrow-intro",
      "metadata": {
        "colab": {
          "base_uri": "https://localhost:8080/"
        },
        "id": "narrow-intro",
        "outputId": "018afa2d-418d-4f5b-cc53-1ba3ec46caec"
      },
      "outputs": [
        {
          "output_type": "stream",
          "name": "stdout",
          "text": [
            "#Images\t\t#Labels\n",
            "185632\t\t100\n"
          ]
        }
      ],
      "source": [
        "img_list, label_list, class_n = parse_data('./age_prediction/train')"
      ]
    },
    {
      "cell_type": "code",
      "execution_count": 9,
      "id": "moral-anxiety",
      "metadata": {
        "id": "moral-anxiety"
      },
      "outputs": [],
      "source": [
        "trainset = ImageDataset(img_list, label_list)"
      ]
    },
    {
      "cell_type": "code",
      "execution_count": 10,
      "id": "solar-bridges",
      "metadata": {
        "id": "solar-bridges"
      },
      "outputs": [],
      "source": [
        "train_data_item, train_data_label = trainset.__getitem__(0)"
      ]
    },
    {
      "cell_type": "code",
      "execution_count": 11,
      "id": "voluntary-anaheim",
      "metadata": {
        "colab": {
          "base_uri": "https://localhost:8080/"
        },
        "id": "voluntary-anaheim",
        "outputId": "2bb0a263-2a18-448a-9947-59f840a349dc"
      },
      "outputs": [
        {
          "output_type": "stream",
          "name": "stdout",
          "text": [
            "data item shape: torch.Size([3, 128, 128])\t data item label: 43\n"
          ]
        }
      ],
      "source": [
        "print('data item shape: {}\\t data item label: {}'.format(train_data_item.shape, train_data_label))"
      ]
    },
    {
      "cell_type": "code",
      "execution_count": 12,
      "id": "drawn-april",
      "metadata": {
        "id": "drawn-april"
      },
      "outputs": [],
      "source": [
        "dataloader = DataLoader(trainset, batch_size=128, shuffle=True, num_workers=1, drop_last=False)"
      ]
    },
    {
      "cell_type": "markdown",
      "id": "heated-cycling",
      "metadata": {
        "id": "heated-cycling"
      },
      "source": [
        "## Torchvision DataSet and DataLoader"
      ]
    },
    {
      "cell_type": "code",
      "execution_count": 13,
      "id": "light-constitution",
      "metadata": {
        "id": "light-constitution"
      },
      "outputs": [],
      "source": [
        "imageFolder_dataset = torchvision.datasets.ImageFolder(root='age_prediction/train/', \n",
        "                                                       transform=torchvision.transforms.ToTensor())"
      ]
    },
    {
      "cell_type": "code",
      "execution_count": 14,
      "id": "smart-natural",
      "metadata": {
        "id": "smart-natural"
      },
      "outputs": [],
      "source": [
        "imageFolder_dataloader = DataLoader(imageFolder_dataset, batch_size=10, shuffle=True, num_workers=1)"
      ]
    },
    {
      "cell_type": "code",
      "execution_count": 15,
      "id": "everyday-asbestos",
      "metadata": {
        "colab": {
          "base_uri": "https://localhost:8080/"
        },
        "id": "everyday-asbestos",
        "outputId": "253f32c4-e1e2-4a19-b240-59a8135d2cf4"
      },
      "outputs": [
        {
          "output_type": "stream",
          "name": "stdout",
          "text": [
            "185632 100\n"
          ]
        }
      ],
      "source": [
        "print(imageFolder_dataset.__len__(), len(imageFolder_dataset.classes))"
      ]
    },
    {
      "cell_type": "markdown",
      "id": "infrared-google",
      "metadata": {
        "id": "infrared-google"
      },
      "source": [
        "## ResNet Class"
      ]
    },
    {
      "cell_type": "code",
      "execution_count": 23,
      "id": "sufficient-coalition",
      "metadata": {
        "id": "sufficient-coalition"
      },
      "outputs": [],
      "source": [
        "\"\"\"\n",
        "\n",
        "This cell is credited to the SOURCE CODE FOR TORCHVISION.MODELS.RESNET\n",
        "\n",
        "URL: https://pytorch.org/vision/0.8/_modules/torchvision/models/resnet.html\n",
        "\n",
        "\"\"\"\n",
        "\n",
        "def conv3x3(in_planes, out_planes, stride=1, groups=1, dilation=1):\n",
        "    \"\"\"3x3 convolution with padding\"\"\"\n",
        "    return nn.Conv2d(in_planes, out_planes, kernel_size=3, stride=stride,\n",
        "                     padding=dilation, groups=groups, bias=False, dilation=dilation)\n",
        "\n",
        "\n",
        "def conv1x1(in_planes, out_planes, stride=1):\n",
        "    \"\"\"1x1 convolution\"\"\"\n",
        "    return nn.Conv2d(in_planes, out_planes, kernel_size=1, stride=stride, bias=False)\n",
        "\n",
        "\n",
        "class BasicBlock(nn.Module):\n",
        "    expansion = 1\n",
        "\n",
        "    def __init__(self, inplanes, planes, stride=1, downsample=None, groups=1,\n",
        "                 base_width=64, dilation=1, norm_layer=None):\n",
        "        super(BasicBlock, self).__init__()\n",
        "        if norm_layer is None:\n",
        "            norm_layer = nn.BatchNorm2d\n",
        "        if groups != 1 or base_width != 64:\n",
        "            raise ValueError('BasicBlock only supports groups=1 and base_width=64')\n",
        "        if dilation > 1:\n",
        "            raise NotImplementedError(\"Dilation > 1 not supported in BasicBlock\")\n",
        "        # Both self.conv1 and self.downsample layers downsample the input when stride != 1\n",
        "        self.conv1 = conv3x3(inplanes, planes, stride)\n",
        "        self.bn1 = norm_layer(planes)\n",
        "        self.relu = nn.ReLU(inplace=True)\n",
        "        self.conv2 = conv3x3(planes, planes)\n",
        "        self.bn2 = norm_layer(planes)\n",
        "        self.downsample = downsample\n",
        "        self.stride = stride\n",
        "\n",
        "    def forward(self, x):\n",
        "        identity = x\n",
        "\n",
        "        out = self.conv1(x)\n",
        "        out = self.bn1(out)\n",
        "        out = self.relu(out)\n",
        "\n",
        "        out = self.conv2(out)\n",
        "        out = self.bn2(out)\n",
        "\n",
        "        if self.downsample is not None:\n",
        "            identity = self.downsample(x)\n",
        "\n",
        "        out += identity\n",
        "        out = self.relu(out)\n",
        "\n",
        "        return out"
      ]
    },
    {
      "cell_type": "code",
      "execution_count": 24,
      "id": "historical-field",
      "metadata": {
        "id": "historical-field"
      },
      "outputs": [],
      "source": [
        "class ResNet(nn.Module):\n",
        "\n",
        "    def __init__(self, block, layers, num_classes=100, zero_init_residual=False,\n",
        "                 groups=1, width_per_group=64, replace_stride_with_dilation=None,\n",
        "                 norm_layer=None):\n",
        "        super(ResNet, self).__init__()\n",
        "        if norm_layer is None:\n",
        "            norm_layer = nn.BatchNorm2d\n",
        "        self._norm_layer = norm_layer\n",
        "\n",
        "        self.inplanes = 64\n",
        "        self.dilation = 1\n",
        "        if replace_stride_with_dilation is None:\n",
        "            # each element in the tuple indicates if we should replace\n",
        "            # the 2x2 stride with a dilated convolution instead\n",
        "            replace_stride_with_dilation = [False, False, False]\n",
        "        if len(replace_stride_with_dilation) != 3:\n",
        "            raise ValueError(\"replace_stride_with_dilation should be None \"\n",
        "                             \"or a 3-element tuple, got {}\".format(replace_stride_with_dilation))\n",
        "        self.groups = groups\n",
        "        self.base_width = width_per_group\n",
        "        self.conv1 = nn.Conv2d(3, self.inplanes, kernel_size=7, stride=2, padding=3,\n",
        "                               bias=False)\n",
        "        self.bn1 = norm_layer(self.inplanes)\n",
        "        self.relu = nn.ReLU(inplace=True)\n",
        "        self.maxpool = nn.MaxPool2d(kernel_size=3, stride=2, padding=1)\n",
        "        self.layer1 = self._make_layer(block, 64, layers[0])\n",
        "        self.layer2 = self._make_layer(block, 128, layers[1], stride=2,\n",
        "                                       dilate=replace_stride_with_dilation[0])\n",
        "        self.layer3 = self._make_layer(block, 256, layers[2], stride=2,\n",
        "                                       dilate=replace_stride_with_dilation[1])\n",
        "        self.layer4 = self._make_layer(block, 512, layers[3], stride=2,\n",
        "                                       dilate=replace_stride_with_dilation[2])\n",
        "        self.avgpool = nn.AdaptiveAvgPool2d((1, 1))\n",
        "        self.fc = nn.Linear(512 * block.expansion, num_classes)\n",
        "\n",
        "        for m in self.modules():\n",
        "            if isinstance(m, nn.Conv2d):\n",
        "                nn.init.kaiming_normal_(m.weight, mode='fan_out', nonlinearity='relu')\n",
        "            elif isinstance(m, (nn.BatchNorm2d, nn.GroupNorm)):\n",
        "                nn.init.constant_(m.weight, 1)\n",
        "                nn.init.constant_(m.bias, 0)\n",
        "\n",
        "        # Zero-initialize the last BN in each residual branch,\n",
        "        # so that the residual branch starts with zeros, and each residual block behaves like an identity.\n",
        "        # This improves the model by 0.2~0.3% according to https://arxiv.org/abs/1706.02677\n",
        "        if zero_init_residual:\n",
        "            for m in self.modules():\n",
        "                if isinstance(m, Bottleneck):\n",
        "                    nn.init.constant_(m.bn3.weight, 0)\n",
        "                elif isinstance(m, BasicBlock):\n",
        "                    nn.init.constant_(m.bn2.weight, 0)\n",
        "\n",
        "    def _make_layer(self, block, planes, blocks, stride=1, dilate=False):\n",
        "        norm_layer = self._norm_layer\n",
        "        downsample = None\n",
        "        previous_dilation = self.dilation\n",
        "        if dilate:\n",
        "            self.dilation *= stride\n",
        "            stride = 1\n",
        "        if stride != 1 or self.inplanes != planes * block.expansion:\n",
        "            downsample = nn.Sequential(\n",
        "                conv1x1(self.inplanes, planes * block.expansion, stride),\n",
        "                norm_layer(planes * block.expansion),\n",
        "            )\n",
        "\n",
        "        layers = []\n",
        "        layers.append(block(self.inplanes, planes, stride, downsample, self.groups,\n",
        "                            self.base_width, previous_dilation, norm_layer))\n",
        "        self.inplanes = planes * block.expansion\n",
        "        for _ in range(1, blocks):\n",
        "            layers.append(block(self.inplanes, planes, groups=self.groups,\n",
        "                                base_width=self.base_width, dilation=self.dilation,\n",
        "                                norm_layer=norm_layer))\n",
        "\n",
        "        return nn.Sequential(*layers)\n",
        "\n",
        "    def _forward_impl(self, x):\n",
        "        # See note [TorchScript super()]\n",
        "        x = self.conv1(x)\n",
        "        x = self.bn1(x)\n",
        "        x = self.relu(x)\n",
        "        x = self.maxpool(x)\n",
        "\n",
        "        x = self.layer1(x)\n",
        "        x = self.layer2(x)\n",
        "        x = self.layer3(x)\n",
        "        x = self.layer4(x)\n",
        "\n",
        "        x = self.avgpool(x)\n",
        "        x = torch.flatten(x, 1)\n",
        "        x = self.fc(x)\n",
        "\n",
        "        return x\n",
        "\n",
        "    def forward(self, x):\n",
        "        return self._forward_impl(x)\n",
        "\n",
        "\n",
        "def _resnet(arch, block, layers, **kwargs):\n",
        "    model = ResNet(block, layers, **kwargs)\n",
        "    return model\n",
        "\n",
        "def resnet34(progress=True, **kwargs):\n",
        "    return _resnet('resnet34', BasicBlock, [3, 4, 6, 3], **kwargs)"
      ]
    },
    {
      "cell_type": "markdown",
      "id": "terminal-notice",
      "metadata": {
        "id": "terminal-notice"
      },
      "source": [
        "# Datasets and DataLoaders"
      ]
    },
    {
      "cell_type": "code",
      "execution_count": 25,
      "id": "alive-penny",
      "metadata": {
        "colab": {
          "base_uri": "https://localhost:8080/"
        },
        "id": "alive-penny",
        "outputId": "0dd49ae6-7f4f-4871-8f82-f9dd74098386"
      },
      "outputs": [
        {
          "output_type": "stream",
          "name": "stderr",
          "text": [
            "/usr/local/lib/python3.7/dist-packages/torch/utils/data/dataloader.py:481: UserWarning: This DataLoader will create 8 worker processes in total. Our suggested max number of worker in current system is 4, which is smaller than what this DataLoader is going to create. Please be aware that excessive worker creation might get DataLoader running slow or even freeze, lower the worker number to avoid potential slowness/freeze if necessary.\n",
            "  cpuset_checked))\n"
          ]
        }
      ],
      "source": [
        "\"\"\"\n",
        "model = resnet34(pretrained=False, progress=True, num_classes = 4000)\n",
        "\"\"\"\n",
        "#Above is the model from classes above\n",
        "from torchvision import transforms\n",
        "\n",
        "myTrainTransforms = transforms.Compose([transforms.Resize((224,224)),\n",
        "                                  # transforms.RandomRotation(20),\n",
        "                                  transforms.ColorJitter(hue=.05,saturation=.05, brightness = 0.3),\n",
        "                                  transforms.RandomHorizontalFlip(),\n",
        "                                  transforms.RandomAffine(20),\n",
        "                                  transforms.ToTensor(),\n",
        "                                  transforms.Normalize((0.485, 0.456, 0.406), (0.229, 0.224, 0.225))])\n",
        "\n",
        "myTestTransforms = transforms.Compose([transforms.Resize((224,224)),\n",
        "                                      transforms.ToTensor(),\n",
        "                                      transforms.Normalize((0.485, 0.456, 0.406), (0.229, 0.224, 0.225))])\n",
        "\n",
        "train_dataset = torchvision.datasets.ImageFolder(root='age_prediction/train', \n",
        "                                                 transform=myTrainTransforms) #.transforms.ToTensor())\n",
        "train_dataloader = torch.utils.data.DataLoader(train_dataset, batch_size=128, \n",
        "                                               shuffle=True, num_workers=8)\n",
        "\n",
        "dev_dataset = torchvision.datasets.ImageFolder(root='age_prediction/test/', \n",
        "                                               transform= myTestTransforms)\n",
        "dev_dataloader = torch.utils.data.DataLoader(dev_dataset, batch_size=128, \n",
        "                                             shuffle=False, num_workers=8)"
      ]
    },
    {
      "cell_type": "code",
      "execution_count": 26,
      "id": "brief-addiction",
      "metadata": {
        "id": "brief-addiction"
      },
      "outputs": [],
      "source": [
        "# Image.open(train_dataset[0])"
      ]
    },
    {
      "cell_type": "markdown",
      "id": "peripheral-router",
      "metadata": {
        "id": "peripheral-router"
      },
      "source": [
        "# Instantiation and Initializations"
      ]
    },
    {
      "cell_type": "code",
      "execution_count": 27,
      "id": "amended-singing",
      "metadata": {
        "id": "amended-singing"
      },
      "outputs": [],
      "source": [
        "numEpochs = 100\n",
        "in_features = 3 # RGB channels\n",
        "\n",
        "learningRate = 0.1\n",
        "weightDecay = 5e-5 \n",
        "\n",
        "num_classes = len(train_dataset.classes)\n",
        "\n",
        "device = torch.device('cuda' if torch.cuda.is_available() else 'cpu')\n",
        "\n",
        "model = resnet34(progress=True, num_classes = 100)\n",
        "\n",
        "model = model.to(device)\n",
        "\n",
        "criterion = nn.CrossEntropyLoss()\n",
        "optimizer = torch.optim.SGD(model.parameters(), nesterov =True, lr=learningRate, weight_decay=weightDecay, momentum=0.9)\n",
        "lr_scheduler = torch.optim.lr_scheduler.ReduceLROnPlateau(optimizer, factor=0.7, patience=1, verbose =True)"
      ]
    },
    {
      "cell_type": "markdown",
      "id": "timely-crash",
      "metadata": {
        "id": "timely-crash"
      },
      "source": [
        "# Training the Model"
      ]
    },
    {
      "cell_type": "code",
      "execution_count": 28,
      "id": "single-gazette",
      "metadata": {
        "id": "single-gazette"
      },
      "outputs": [],
      "source": [
        "# model.load_state_dict(torch.load(\"model_29.pt\"))"
      ]
    },
    {
      "cell_type": "code",
      "execution_count": 29,
      "id": "twelve-concrete",
      "metadata": {
        "tags": [],
        "colab": {
          "base_uri": "https://localhost:8080/",
          "height": 462
        },
        "id": "twelve-concrete",
        "outputId": "60f40b49-0a11-4267-e114-bf709da72908"
      },
      "outputs": [
        {
          "output_type": "stream",
          "name": "stderr",
          "text": [
            "/usr/local/lib/python3.7/dist-packages/torch/utils/data/dataloader.py:481: UserWarning: This DataLoader will create 8 worker processes in total. Our suggested max number of worker in current system is 4, which is smaller than what this DataLoader is going to create. Please be aware that excessive worker creation might get DataLoader running slow or even freeze, lower the worker number to avoid potential slowness/freeze if necessary.\n",
            "  cpuset_checked))\n"
          ]
        },
        {
          "output_type": "stream",
          "name": "stdout",
          "text": [
            "Epoch: 1\tBatch: 1000\tAvg-Loss: 0.8097\n"
          ]
        },
        {
          "output_type": "error",
          "ename": "RuntimeError",
          "evalue": "ignored",
          "traceback": [
            "\u001b[0;31m---------------------------------------------------------------------------\u001b[0m",
            "\u001b[0;31mRuntimeError\u001b[0m                              Traceback (most recent call last)",
            "\u001b[0;32m<ipython-input-29-b3d802acda31>\u001b[0m in \u001b[0;36m<module>\u001b[0;34m()\u001b[0m\n\u001b[1;32m     38\u001b[0m     \u001b[0;32mfor\u001b[0m \u001b[0mbatch_num\u001b[0m\u001b[0;34m,\u001b[0m \u001b[0;34m(\u001b[0m\u001b[0mx\u001b[0m\u001b[0;34m,\u001b[0m \u001b[0my\u001b[0m\u001b[0;34m)\u001b[0m \u001b[0;32min\u001b[0m \u001b[0menumerate\u001b[0m\u001b[0;34m(\u001b[0m\u001b[0mdev_dataloader\u001b[0m\u001b[0;34m)\u001b[0m\u001b[0;34m:\u001b[0m\u001b[0;34m\u001b[0m\u001b[0;34m\u001b[0m\u001b[0m\n\u001b[1;32m     39\u001b[0m         \u001b[0mx\u001b[0m\u001b[0;34m,\u001b[0m \u001b[0my\u001b[0m \u001b[0;34m=\u001b[0m \u001b[0mx\u001b[0m\u001b[0;34m.\u001b[0m\u001b[0mto\u001b[0m\u001b[0;34m(\u001b[0m\u001b[0mdevice\u001b[0m\u001b[0;34m)\u001b[0m\u001b[0;34m,\u001b[0m \u001b[0my\u001b[0m\u001b[0;34m.\u001b[0m\u001b[0mto\u001b[0m\u001b[0;34m(\u001b[0m\u001b[0mdevice\u001b[0m\u001b[0;34m)\u001b[0m\u001b[0;34m\u001b[0m\u001b[0;34m\u001b[0m\u001b[0m\n\u001b[0;32m---> 40\u001b[0;31m         \u001b[0moutputs\u001b[0m \u001b[0;34m=\u001b[0m \u001b[0mmodel\u001b[0m\u001b[0;34m(\u001b[0m\u001b[0mx\u001b[0m\u001b[0;34m)\u001b[0m\u001b[0;34m\u001b[0m\u001b[0;34m\u001b[0m\u001b[0m\n\u001b[0m\u001b[1;32m     41\u001b[0m         \u001b[0mnum_correct\u001b[0m \u001b[0;34m+=\u001b[0m \u001b[0;34m(\u001b[0m\u001b[0mtorch\u001b[0m\u001b[0;34m.\u001b[0m\u001b[0margmax\u001b[0m\u001b[0;34m(\u001b[0m\u001b[0moutputs\u001b[0m\u001b[0;34m,\u001b[0m \u001b[0maxis\u001b[0m\u001b[0;34m=\u001b[0m\u001b[0;36m1\u001b[0m\u001b[0;34m)\u001b[0m \u001b[0;34m==\u001b[0m \u001b[0my\u001b[0m\u001b[0;34m)\u001b[0m\u001b[0;34m.\u001b[0m\u001b[0msum\u001b[0m\u001b[0;34m(\u001b[0m\u001b[0;34m)\u001b[0m\u001b[0;34m.\u001b[0m\u001b[0mitem\u001b[0m\u001b[0;34m(\u001b[0m\u001b[0;34m)\u001b[0m\u001b[0;34m\u001b[0m\u001b[0;34m\u001b[0m\u001b[0m\n\u001b[1;32m     42\u001b[0m         \u001b[0mval_loss\u001b[0m \u001b[0;34m=\u001b[0m \u001b[0mcriterion\u001b[0m\u001b[0;34m(\u001b[0m\u001b[0moutputs\u001b[0m\u001b[0;34m,\u001b[0m \u001b[0my\u001b[0m\u001b[0;34m.\u001b[0m\u001b[0mlong\u001b[0m\u001b[0;34m(\u001b[0m\u001b[0;34m)\u001b[0m\u001b[0;34m)\u001b[0m\u001b[0;34m\u001b[0m\u001b[0;34m\u001b[0m\u001b[0m\n",
            "\u001b[0;32m/usr/local/lib/python3.7/dist-packages/torch/nn/modules/module.py\u001b[0m in \u001b[0;36m_call_impl\u001b[0;34m(self, *input, **kwargs)\u001b[0m\n\u001b[1;32m   1100\u001b[0m         if not (self._backward_hooks or self._forward_hooks or self._forward_pre_hooks or _global_backward_hooks\n\u001b[1;32m   1101\u001b[0m                 or _global_forward_hooks or _global_forward_pre_hooks):\n\u001b[0;32m-> 1102\u001b[0;31m             \u001b[0;32mreturn\u001b[0m \u001b[0mforward_call\u001b[0m\u001b[0;34m(\u001b[0m\u001b[0;34m*\u001b[0m\u001b[0minput\u001b[0m\u001b[0;34m,\u001b[0m \u001b[0;34m**\u001b[0m\u001b[0mkwargs\u001b[0m\u001b[0;34m)\u001b[0m\u001b[0;34m\u001b[0m\u001b[0;34m\u001b[0m\u001b[0m\n\u001b[0m\u001b[1;32m   1103\u001b[0m         \u001b[0;31m# Do not call functions when jit is used\u001b[0m\u001b[0;34m\u001b[0m\u001b[0;34m\u001b[0m\u001b[0;34m\u001b[0m\u001b[0m\n\u001b[1;32m   1104\u001b[0m         \u001b[0mfull_backward_hooks\u001b[0m\u001b[0;34m,\u001b[0m \u001b[0mnon_full_backward_hooks\u001b[0m \u001b[0;34m=\u001b[0m \u001b[0;34m[\u001b[0m\u001b[0;34m]\u001b[0m\u001b[0;34m,\u001b[0m \u001b[0;34m[\u001b[0m\u001b[0;34m]\u001b[0m\u001b[0;34m\u001b[0m\u001b[0;34m\u001b[0m\u001b[0m\n",
            "\u001b[0;32m<ipython-input-24-26015cebcea9>\u001b[0m in \u001b[0;36mforward\u001b[0;34m(self, x)\u001b[0m\n\u001b[1;32m     95\u001b[0m \u001b[0;34m\u001b[0m\u001b[0m\n\u001b[1;32m     96\u001b[0m     \u001b[0;32mdef\u001b[0m \u001b[0mforward\u001b[0m\u001b[0;34m(\u001b[0m\u001b[0mself\u001b[0m\u001b[0;34m,\u001b[0m \u001b[0mx\u001b[0m\u001b[0;34m)\u001b[0m\u001b[0;34m:\u001b[0m\u001b[0;34m\u001b[0m\u001b[0;34m\u001b[0m\u001b[0m\n\u001b[0;32m---> 97\u001b[0;31m         \u001b[0;32mreturn\u001b[0m \u001b[0mself\u001b[0m\u001b[0;34m.\u001b[0m\u001b[0m_forward_impl\u001b[0m\u001b[0;34m(\u001b[0m\u001b[0mx\u001b[0m\u001b[0;34m)\u001b[0m\u001b[0;34m\u001b[0m\u001b[0;34m\u001b[0m\u001b[0m\n\u001b[0m\u001b[1;32m     98\u001b[0m \u001b[0;34m\u001b[0m\u001b[0m\n\u001b[1;32m     99\u001b[0m \u001b[0;34m\u001b[0m\u001b[0m\n",
            "\u001b[0;32m<ipython-input-24-26015cebcea9>\u001b[0m in \u001b[0;36m_forward_impl\u001b[0;34m(self, x)\u001b[0m\n\u001b[1;32m     78\u001b[0m     \u001b[0;32mdef\u001b[0m \u001b[0m_forward_impl\u001b[0m\u001b[0;34m(\u001b[0m\u001b[0mself\u001b[0m\u001b[0;34m,\u001b[0m \u001b[0mx\u001b[0m\u001b[0;34m)\u001b[0m\u001b[0;34m:\u001b[0m\u001b[0;34m\u001b[0m\u001b[0;34m\u001b[0m\u001b[0m\n\u001b[1;32m     79\u001b[0m         \u001b[0;31m# See note [TorchScript super()]\u001b[0m\u001b[0;34m\u001b[0m\u001b[0;34m\u001b[0m\u001b[0;34m\u001b[0m\u001b[0m\n\u001b[0;32m---> 80\u001b[0;31m         \u001b[0mx\u001b[0m \u001b[0;34m=\u001b[0m \u001b[0mself\u001b[0m\u001b[0;34m.\u001b[0m\u001b[0mconv1\u001b[0m\u001b[0;34m(\u001b[0m\u001b[0mx\u001b[0m\u001b[0;34m)\u001b[0m\u001b[0;34m\u001b[0m\u001b[0;34m\u001b[0m\u001b[0m\n\u001b[0m\u001b[1;32m     81\u001b[0m         \u001b[0mx\u001b[0m \u001b[0;34m=\u001b[0m \u001b[0mself\u001b[0m\u001b[0;34m.\u001b[0m\u001b[0mbn1\u001b[0m\u001b[0;34m(\u001b[0m\u001b[0mx\u001b[0m\u001b[0;34m)\u001b[0m\u001b[0;34m\u001b[0m\u001b[0;34m\u001b[0m\u001b[0m\n\u001b[1;32m     82\u001b[0m         \u001b[0mx\u001b[0m \u001b[0;34m=\u001b[0m \u001b[0mself\u001b[0m\u001b[0;34m.\u001b[0m\u001b[0mrelu\u001b[0m\u001b[0;34m(\u001b[0m\u001b[0mx\u001b[0m\u001b[0;34m)\u001b[0m\u001b[0;34m\u001b[0m\u001b[0;34m\u001b[0m\u001b[0m\n",
            "\u001b[0;32m/usr/local/lib/python3.7/dist-packages/torch/nn/modules/module.py\u001b[0m in \u001b[0;36m_call_impl\u001b[0;34m(self, *input, **kwargs)\u001b[0m\n\u001b[1;32m   1100\u001b[0m         if not (self._backward_hooks or self._forward_hooks or self._forward_pre_hooks or _global_backward_hooks\n\u001b[1;32m   1101\u001b[0m                 or _global_forward_hooks or _global_forward_pre_hooks):\n\u001b[0;32m-> 1102\u001b[0;31m             \u001b[0;32mreturn\u001b[0m \u001b[0mforward_call\u001b[0m\u001b[0;34m(\u001b[0m\u001b[0;34m*\u001b[0m\u001b[0minput\u001b[0m\u001b[0;34m,\u001b[0m \u001b[0;34m**\u001b[0m\u001b[0mkwargs\u001b[0m\u001b[0;34m)\u001b[0m\u001b[0;34m\u001b[0m\u001b[0;34m\u001b[0m\u001b[0m\n\u001b[0m\u001b[1;32m   1103\u001b[0m         \u001b[0;31m# Do not call functions when jit is used\u001b[0m\u001b[0;34m\u001b[0m\u001b[0;34m\u001b[0m\u001b[0;34m\u001b[0m\u001b[0m\n\u001b[1;32m   1104\u001b[0m         \u001b[0mfull_backward_hooks\u001b[0m\u001b[0;34m,\u001b[0m \u001b[0mnon_full_backward_hooks\u001b[0m \u001b[0;34m=\u001b[0m \u001b[0;34m[\u001b[0m\u001b[0;34m]\u001b[0m\u001b[0;34m,\u001b[0m \u001b[0;34m[\u001b[0m\u001b[0;34m]\u001b[0m\u001b[0;34m\u001b[0m\u001b[0;34m\u001b[0m\u001b[0m\n",
            "\u001b[0;32m/usr/local/lib/python3.7/dist-packages/torch/nn/modules/conv.py\u001b[0m in \u001b[0;36mforward\u001b[0;34m(self, input)\u001b[0m\n\u001b[1;32m    444\u001b[0m \u001b[0;34m\u001b[0m\u001b[0m\n\u001b[1;32m    445\u001b[0m     \u001b[0;32mdef\u001b[0m \u001b[0mforward\u001b[0m\u001b[0;34m(\u001b[0m\u001b[0mself\u001b[0m\u001b[0;34m,\u001b[0m \u001b[0minput\u001b[0m\u001b[0;34m:\u001b[0m \u001b[0mTensor\u001b[0m\u001b[0;34m)\u001b[0m \u001b[0;34m->\u001b[0m \u001b[0mTensor\u001b[0m\u001b[0;34m:\u001b[0m\u001b[0;34m\u001b[0m\u001b[0;34m\u001b[0m\u001b[0m\n\u001b[0;32m--> 446\u001b[0;31m         \u001b[0;32mreturn\u001b[0m \u001b[0mself\u001b[0m\u001b[0;34m.\u001b[0m\u001b[0m_conv_forward\u001b[0m\u001b[0;34m(\u001b[0m\u001b[0minput\u001b[0m\u001b[0;34m,\u001b[0m \u001b[0mself\u001b[0m\u001b[0;34m.\u001b[0m\u001b[0mweight\u001b[0m\u001b[0;34m,\u001b[0m \u001b[0mself\u001b[0m\u001b[0;34m.\u001b[0m\u001b[0mbias\u001b[0m\u001b[0;34m)\u001b[0m\u001b[0;34m\u001b[0m\u001b[0;34m\u001b[0m\u001b[0m\n\u001b[0m\u001b[1;32m    447\u001b[0m \u001b[0;34m\u001b[0m\u001b[0m\n\u001b[1;32m    448\u001b[0m \u001b[0;32mclass\u001b[0m \u001b[0mConv3d\u001b[0m\u001b[0;34m(\u001b[0m\u001b[0m_ConvNd\u001b[0m\u001b[0;34m)\u001b[0m\u001b[0;34m:\u001b[0m\u001b[0;34m\u001b[0m\u001b[0;34m\u001b[0m\u001b[0m\n",
            "\u001b[0;32m/usr/local/lib/python3.7/dist-packages/torch/nn/modules/conv.py\u001b[0m in \u001b[0;36m_conv_forward\u001b[0;34m(self, input, weight, bias)\u001b[0m\n\u001b[1;32m    441\u001b[0m                             _pair(0), self.dilation, self.groups)\n\u001b[1;32m    442\u001b[0m         return F.conv2d(input, weight, bias, self.stride,\n\u001b[0;32m--> 443\u001b[0;31m                         self.padding, self.dilation, self.groups)\n\u001b[0m\u001b[1;32m    444\u001b[0m \u001b[0;34m\u001b[0m\u001b[0m\n\u001b[1;32m    445\u001b[0m     \u001b[0;32mdef\u001b[0m \u001b[0mforward\u001b[0m\u001b[0;34m(\u001b[0m\u001b[0mself\u001b[0m\u001b[0;34m,\u001b[0m \u001b[0minput\u001b[0m\u001b[0;34m:\u001b[0m \u001b[0mTensor\u001b[0m\u001b[0;34m)\u001b[0m \u001b[0;34m->\u001b[0m \u001b[0mTensor\u001b[0m\u001b[0;34m:\u001b[0m\u001b[0;34m\u001b[0m\u001b[0;34m\u001b[0m\u001b[0m\n",
            "\u001b[0;31mRuntimeError\u001b[0m: CUDA out of memory. Tried to allocate 392.00 MiB (GPU 0; 15.90 GiB total capacity; 14.39 GiB already allocated; 49.75 MiB free; 14.84 GiB reserved in total by PyTorch) If reserved memory is >> allocated memory try setting max_split_size_mb to avoid fragmentation.  See documentation for Memory Management and PYTORCH_CUDA_ALLOC_CONF"
          ]
        }
      ],
      "source": [
        "# Train!\n",
        "epoch = 0\n",
        "best_loss = np.inf\n",
        "for epoch in range(epoch, numEpochs):\n",
        "    \n",
        "    # Train\n",
        "    model.train()\n",
        "    avg_loss = 0.0\n",
        "    for batch_num, (x, y) in enumerate(train_dataloader):\n",
        "        optimizer.zero_grad()\n",
        "        \n",
        "        x, y = x.to(device), y.to(device)\n",
        "\n",
        "        outputs = model(x)\n",
        "\n",
        "        loss = criterion(outputs, y.long())\n",
        "        loss.backward()\n",
        "        optimizer.step()\n",
        "\n",
        "        avg_loss += loss.item()\n",
        "\n",
        "        if (batch_num+1) % 1000 == 0:\n",
        "            print('Epoch: {}\\tBatch: {}\\tAvg-Loss: {:.4f}'.format(epoch+1, batch_num+1, avg_loss/5000))\n",
        "            avg_loss = 0.0\n",
        "        \n",
        "        if((epoch+1)%20 == 0):\n",
        "            for group in optimizer.param_groups:\n",
        "                group['lr'] /=2\n",
        "        \n",
        "        # Saving the model\n",
        "        # saved_model_name = \"model_\"+str(epoch)+\".ckpt\"\n",
        "        # torch.save(model.state_dict(), saved_model_name)\n",
        "    \n",
        "    # Validate\n",
        "    model.eval()\n",
        "    num_correct = 0\n",
        "    avg_val_loss = 0\n",
        "    for batch_num, (x, y) in enumerate(dev_dataloader):\n",
        "        x, y = x.to(device), y.to(device)\n",
        "        outputs = model(x)\n",
        "        num_correct += (torch.argmax(outputs, axis=1) == y).sum().item()\n",
        "        val_loss = criterion(outputs, y.long())\n",
        "        avg_val_loss += val_loss.item()\n",
        "    \n",
        "    accuracy = num_correct / len(dev_dataset)\n",
        "    avg_val_loss /= len(dev_dataset)\n",
        "    lr_scheduler.step(avg_val_loss)\n",
        "    \n",
        "    print('Epoch: {}, Validation Accuracy: {:.2f}'.format(epoch+1, num_correct / len(dev_dataset)))\n",
        "    if avg_val_loss < best_loss:\n",
        "        torch.save(model.state_dict(), 'best_model.pt')\n",
        "        checkpoint = { \n",
        "                        'epoch': epoch,\n",
        "                        'model': model,\n",
        "                        'optimizer': optimizer,\n",
        "                        'lr_sched': lr_scheduler}\n",
        "        torch.save(checkpoint, 'best_checkpoint_models.pt')\n",
        "        best_loss = avg_val_loss"
      ]
    },
    {
      "cell_type": "markdown",
      "id": "commercial-dublin",
      "metadata": {
        "id": "commercial-dublin"
      },
      "source": [
        "# Resuming training from saved model\n",
        "\n",
        "####                 In case it is needed to resume training instead of starting training from 0th epoch"
      ]
    },
    {
      "cell_type": "code",
      "execution_count": null,
      "id": "modular-suicide",
      "metadata": {
        "id": "modular-suicide"
      },
      "outputs": [],
      "source": [
        "# # model = Net()\n",
        "# # optimizer = optim.SGD(net.parameters(), lr=0.1, momentum=0.9)\n",
        "\n",
        "        # checkpoint = torch.load(\"checkpoint_model_27.pt\")\n",
        "        # model = checkpoint['model']\n",
        "        # optimizer = checkpoint['optimizer']\n",
        "        # epoch = checkpoint['epoch']\n",
        "# # loss = checkpoint['loss']"
      ]
    },
    {
      "cell_type": "code",
      "execution_count": null,
      "id": "compatible-vienna",
      "metadata": {
        "id": "compatible-vienna"
      },
      "outputs": [],
      "source": [
        "epoch = 0\n",
        "while(epoch < numEpochs):\n",
        "    \n",
        "    # Train\n",
        "    model.train()\n",
        "    avg_loss = 0.0\n",
        "    for batch_num, (x, y) in enumerate(train_dataloader):\n",
        "        optimizer.zero_grad()\n",
        "\n",
        "        x, y = x.to(device), y.to(device)\n",
        "\n",
        "        outputs = model(x)\n",
        "\n",
        "        loss = criterion(outputs, y.long())\n",
        "        loss.backward()\n",
        "        optimizer.step()\n",
        "\n",
        "        avg_loss += loss.item()\n",
        "\n",
        "        if (batch_num+1) % 1000 == 0:\n",
        "            print('Epoch: {}\\tBatch: {}\\tAvg-Loss: {:.4f}'.format(epoch+1, batch_num+1, avg_loss/5000))\n",
        "            avg_loss = 0.0\n",
        "\n",
        "        if((epoch+1)%20 == 0):\n",
        "            for group in optimizer.param_groups:\n",
        "                group['lr'] /=2\n",
        "\n",
        "        # Saving the model\n",
        "        # saved_model_name = \"model_\"+str(epoch)+\".ckpt\"\n",
        "        # torch.save(model.state_dict(), saved_model_name)\n",
        "    \n",
        "    # Validate\n",
        "    model.eval()\n",
        "    num_correct = 0\n",
        "    avg_val_loss = 0\n",
        "    for batch_num, (x, y) in enumerate(dev_dataloader):\n",
        "        x, y = x.to(device), y.to(device)\n",
        "        outputs = model(x)\n",
        "        num_correct += (torch.argmax(outputs, axis=1) == y).sum().item()\n",
        "        val_loss = criterion(outputs, y.long())\n",
        "        avg_val_loss += val_loss.item()\n",
        "\n",
        "    accuracy = num_correct / len(dev_dataset)\n",
        "    avg_val_loss /= len(dev_dataset)\n",
        "    lr_scheduler.step(avg_val_loss)\n",
        "\n",
        "    print('Epoch: {}, Validation Accuracy: {:.2f}'.format(epoch+1, num_correct / len(dev_dataset)))\n",
        "    # if epoch%5==0:\n",
        "    torch.save(model.state_dict(), 'model_' + str(epoch+1) + '.pt')\n",
        "    checkpoint = { \n",
        "                    'epoch': epoch,\n",
        "                    'model': model,\n",
        "                    'optimizer': optimizer,\n",
        "                    'lr_sched': lr_scheduler}\n",
        "    torch.save(checkpoint, 'checkpoint_modelss_' + str(epoch+1) + '.pt')\n",
        "    epoch +=1"
      ]
    },
    {
      "cell_type": "code",
      "execution_count": null,
      "id": "dominant-deputy",
      "metadata": {
        "id": "dominant-deputy"
      },
      "outputs": [],
      "source": [
        "optimizer.state_dict"
      ]
    },
    {
      "cell_type": "code",
      "execution_count": null,
      "id": "accredited-delight",
      "metadata": {
        "id": "accredited-delight"
      },
      "outputs": [],
      "source": [
        "train_dataset.class_to_idx"
      ]
    },
    {
      "cell_type": "code",
      "execution_count": null,
      "id": "nominated-exemption",
      "metadata": {
        "id": "nominated-exemption"
      },
      "outputs": [],
      "source": [
        "checkpoint2 = torch.load('checkpoint_modelss_1.pt')\n",
        "model = resnet34(pretrained=False, progress=True, num_classes = 4000)\n",
        "model = checkpoint2['model']\n",
        "\n",
        "model.eval()\n",
        "num_correct = 0\n",
        "avg_val_loss = 0\n",
        "for batch_num, (x, y) in enumerate(dev_dataloader):\n",
        "    x, y = x.to(device), y.to(device)\n",
        "    outputs = model(x)\n",
        "    num_correct += (torch.argmax(outputs, axis=1) == y).sum().item()\n",
        "    val_loss = criterion(outputs, y.long())\n",
        "    avg_val_loss += val_loss.item()\n",
        "\n",
        "accuracy = num_correct / len(dev_dataset)\n",
        "avg_val_loss /= len(dev_dataset)\n",
        "lr_scheduler.step(avg_val_loss)\n",
        "\n",
        "print('Epoch: {}, Validation Accuracy: {:.2f}'.format(epoch+1, num_correct / len(dev_dataset)))"
      ]
    },
    {
      "cell_type": "markdown",
      "id": "cheap-deputy",
      "metadata": {
        "id": "cheap-deputy"
      },
      "source": [
        "### ! Computing Cosine similarity is implememnted in another notebook based on the hints given in the bootcamp!"
      ]
    },
    {
      "cell_type": "code",
      "execution_count": null,
      "id": "bronze-prospect",
      "metadata": {
        "id": "bronze-prospect"
      },
      "outputs": [],
      "source": [
        ""
      ]
    }
  ],
  "metadata": {
    "kernelspec": {
      "display_name": "Python 3",
      "language": "python",
      "name": "python3"
    },
    "language_info": {
      "codemirror_mode": {
        "name": "ipython",
        "version": 3
      },
      "file_extension": ".py",
      "mimetype": "text/x-python",
      "name": "python",
      "nbconvert_exporter": "python",
      "pygments_lexer": "ipython3",
      "version": "3.8.5"
    },
    "colab": {
      "name": "ResNet34.ipynb",
      "provenance": [],
      "collapsed_sections": [],
      "machine_shape": "hm"
    },
    "accelerator": "GPU"
  },
  "nbformat": 4,
  "nbformat_minor": 5
}